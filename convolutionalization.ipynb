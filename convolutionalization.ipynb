{
  "cells": [
    {
      "cell_type": "markdown",
      "metadata": {
        "id": "pkKA6EUUbI8d"
      },
      "source": [
        "# Convolutionalization\n",
        "\n",
        "In this notebook, we explain the idea of convolutionalization, working with mnist digits.\n",
        "\n",
        "Convolutionalization is the process of transforming a neural network containing dense layers (typically some classification network) into a fully convolutional one.\n",
        "\n",
        "The fully convolutional network can be used as a detector kernel, convolving it over an input image to produce a \"heat map\" of the locations where objects are found."
      ]
    },
    {
      "cell_type": "code",
      "execution_count": 1,
      "metadata": {
        "id": "n-Kvac_mA5hb"
      },
      "outputs": [],
      "source": [
        "import tensorflow as tf\n",
        "from tensorflow.keras.layers import Input, Conv2D, Flatten, Dense, GlobalMaxPool2D, MaxPool2D, Reshape\n",
        "from tensorflow.keras.models import Model\n",
        "from tensorflow.keras.datasets import mnist\n",
        "import numpy as np\n",
        "import matplotlib.pyplot as plt"
      ]
    },
    {
      "cell_type": "markdown",
      "metadata": {
        "id": "EwmUCAgoMPqE"
      },
      "source": [
        "Here we load the mnist dataset"
      ]
    },
    {
      "cell_type": "code",
      "execution_count": 2,
      "metadata": {
        "colab": {
          "base_uri": "https://localhost:8080/"
        },
        "id": "LtQzvbqvBuzF",
        "outputId": "15954b25-1d98-4244-f683-b0db08b83870"
      },
      "outputs": [],
      "source": [
        "(x_train, y_train), (x_test, y_test) = mnist.load_data()\n",
        "x_train = x_train.reshape(60000,28,28,1)/255.\n",
        "x_test = x_test.reshape(10000,28,28,1)/255.\n",
        "print(x_train.shape)\n",
        "print(x_train.min())\n",
        "print(x_train.max())"
      ]
    },
    {
      "cell_type": "markdown",
      "metadata": {
        "id": "8Mm96cktqb7j"
      },
      "source": [
        "It is convenient to add to the detector a \"background\" class, containing no object. For traning and testing we create a bunch of images \"almost black\" (to be refined as an exercise)."
      ]
    },
    {
      "cell_type": "code",
      "execution_count": 3,
      "metadata": {
        "id": "ynQax_TpqV_3"
      },
      "outputs": [],
      "source": [
        "background = np.random.randint(0,5,(6000,28,28,1))/255.\n",
        "background_test = np.random.randint(0,5,(1000,28,28,1))/255."
      ]
    },
    {
      "cell_type": "markdown",
      "metadata": {
        "id": "gH5zpBkqthfX"
      },
      "source": [
        "Let us see an example of background, together with a typical image."
      ]
    },
    {
      "cell_type": "code",
      "execution_count": 4,
      "metadata": {
        "colab": {
          "base_uri": "https://localhost:8080/",
          "height": 216
        },
        "id": "JSttQ9PdqSKl",
        "outputId": "d819ceba-b63d-4c2a-a09e-fe5ce42f746b"
      },
      "outputs": [],
      "source": [
        "imageplot = plt.imshow(np.reshape(np.concatenate((background[15],x_train[23]),axis=1),(28,56)))\n",
        "plt.show()"
      ]
    },
    {
      "cell_type": "markdown",
      "metadata": {
        "id": "xRMu8SAWdHYx"
      },
      "source": [
        "We extend the training set. Backgound gets label \"10\"."
      ]
    },
    {
      "cell_type": "code",
      "execution_count": 10,
      "metadata": {
        "id": "d2Rj10qfCLNi"
      },
      "outputs": [],
      "source": [
        "x_train_bg = np.concatenate((x_train,background))\n",
        "x_test_bg = np.concatenate((x_test,background_test))\n",
        "y_train_bg = np.concatenate((y_train,np.ones(6000)*10))\n",
        "y_test_bg = np.concatenate((y_test,np.ones(1000)*10))"
      ]
    },
    {
      "cell_type": "code",
      "execution_count": 11,
      "metadata": {
        "colab": {
          "base_uri": "https://localhost:8080/"
        },
        "id": "vaF-vuoNOSsl",
        "outputId": "212bfe92-a17a-415a-a2d6-eeaf25827a02"
      },
      "outputs": [],
      "source": [
        "print(x_train_bg.shape)"
      ]
    },
    {
      "cell_type": "markdown",
      "metadata": {
        "id": "jywUMUvbd1s6"
      },
      "source": [
        "The classifier is composed by an initial part made by 2Dconvolutional layers, followed by two dense layers (intermixed by dropout).\n",
        "\n",
        "Every other convolution has stride 2, halving the size of the input. At the same time we double the channel dimension, to partially compensate the dimensionality loss.\n"
      ]
    },
    {
      "cell_type": "code",
      "execution_count": 12,
      "metadata": {
        "id": "jc2XEhlhCxhq"
      },
      "outputs": [],
      "source": [
        "iimg = Input(shape=(28,28,1))\n",
        "x = Conv2D(16,(3,3),strides=2,padding='same', activation='swish')(iimg)\n",
        "x = Conv2D(32,(3,3),strides=2,padding='same',activation='swish')(x)\n",
        "x = Conv2D(64,(3,3),strides=2,padding='same',activation='swish')(x)\n",
        "x = GlobalMaxPool2D()(x)\n",
        "x = Dense(64,activation = 'swish')(x)\n",
        "cout = Dense(11, activation = 'softmax')(x) #we have now 11 categories\n",
        "\n",
        "model = Model(inputs=[iimg],outputs=[cout])"
      ]
    },
    {
      "cell_type": "markdown",
      "metadata": {
        "id": "GkpFw9N2exQd"
      },
      "source": [
        "Here is the model summary. "
      ]
    },
    {
      "cell_type": "code",
      "execution_count": 7,
      "metadata": {
        "colab": {
          "base_uri": "https://localhost:8080/"
        },
        "id": "QamU6c46GqsD",
        "outputId": "5e2dca0b-1d27-442d-ad1a-1da0bf397d15"
      },
      "outputs": [],
      "source": [
        "model.summary()"
      ]
    },
    {
      "cell_type": "markdown",
      "metadata": {
        "id": "0Qmdo95Ugyl_"
      },
      "source": [
        "We compile the model with (sparse) categorical crossentropy. \n",
        "Recall that the training set is automatically shuffled by the fit method.\n",
        "\n",
        "We add accuracy as additional metric to evaluate the model."
      ]
    },
    {
      "cell_type": "code",
      "execution_count": 14,
      "metadata": {
        "id": "sFFQtCClN9cw"
      },
      "outputs": [],
      "source": [
        "model.compile(optimizer='adam',loss='sparse_categorical_crossentropy',metrics=['accuracy'])"
      ]
    },
    {
      "cell_type": "markdown",
      "metadata": {
        "id": "LAF84qHSjrXc"
      },
      "source": [
        "Ten epochs of training should be enough."
      ]
    },
    {
      "cell_type": "code",
      "execution_count": 15,
      "metadata": {
        "colab": {
          "base_uri": "https://localhost:8080/"
        },
        "id": "qZ3kzHG8NnlV",
        "outputId": "ee3a6a6f-c57d-4966-d4ec-4043c0c9312b"
      },
      "outputs": [],
      "source": [
        "model.fit(x_train_bg,y_train_bg,\n",
        "          epochs=10,\n",
        "          batch_size=100,\n",
        "          validation_data=(x_test_bg, y_test_bg))"
      ]
    },
    {
      "cell_type": "markdown",
      "metadata": {
        "id": "yncro6-HM7cM"
      },
      "source": [
        "Let us save the weights, since we need them."
      ]
    },
    {
      "cell_type": "code",
      "execution_count": 16,
      "metadata": {
        "id": "A470NYc06CAm"
      },
      "outputs": [],
      "source": [
        "model.save_weights(\"mymodel.hdf5\")"
      ]
    },
    {
      "cell_type": "markdown",
      "metadata": {
        "id": "QYouO3EG4twa"
      },
      "source": [
        "Now we define a fully convolutional network. We aim to obtain in output a feature map, that is a 2D image.\n",
        "\n",
        "A simple way to do it is to directly apply the Dense layers to the 3D features maps before maxpooling. In tensorflow, this is equivalent to apply a unary convolution, that is the dense layer only operates on channels."
      ]
    },
    {
      "cell_type": "code",
      "execution_count": 17,
      "metadata": {
        "id": "HWx7Qce053Tn"
      },
      "outputs": [],
      "source": [
        "iimg = Input(shape=(None,None,1))\n",
        "x = Conv2D(16,(3,3),strides=2,padding='same', activation='swish',name=\"l1\")(iimg)\n",
        "x = Conv2D(32,(3,3),strides=2,padding='same',activation='swish',name=\"l2\")(x)\n",
        "x = Conv2D(64,(3,3),strides=2,padding='same',activation='swish',name=\"l3\")(x)\n",
        "#x = MaxPool2D((3,3),padding='same',strides=1)(x)\n",
        "x = Dense(64,activation = 'swish')(x)\n",
        "cout = Dense(11, activation = 'softmax')(x) \n",
        "\n",
        "model_c = Model(inputs=[iimg],outputs=[cout])"
      ]
    },
    {
      "cell_type": "markdown",
      "metadata": {
        "id": "OcDxh3NPN2zj"
      },
      "source": [
        "Let us see the summary. \n",
        "\n",
        "Observe that the spatial dimension of the input is unspecified and that we get a spatial heat map as output. \n",
        "\n",
        "To beeter understand the relation between the input-output spatial dimensions fix the some shapes for inputs and recompute the summary."
      ]
    },
    {
      "cell_type": "code",
      "execution_count": 18,
      "metadata": {
        "colab": {
          "base_uri": "https://localhost:8080/"
        },
        "id": "aBz8nT8Z6qzl",
        "outputId": "66ee5cdb-fb19-4fe8-d6c4-d056d4d09da8"
      },
      "outputs": [],
      "source": [
        "model_c.summary()"
      ]
    },
    {
      "cell_type": "markdown",
      "metadata": {
        "id": "pPlvZZ-5O1Pi"
      },
      "source": [
        "The previous fully convolutional network has precisely the same parameters of the previous classifier, so we can just load the saved weights.\n",
        "\n"
      ]
    },
    {
      "cell_type": "code",
      "execution_count": 19,
      "metadata": {
        "id": "WPi59o0t7R5Z"
      },
      "outputs": [],
      "source": [
        "model_c.load_weights(\"mymodel.hdf5\")"
      ]
    },
    {
      "cell_type": "markdown",
      "metadata": {
        "id": "eu3ku6-yIKW2"
      },
      "source": [
        "Let us create an image composed by several mnist digits."
      ]
    },
    {
      "cell_type": "code",
      "execution_count": 20,
      "metadata": {
        "id": "kr-B_0bzIXx6"
      },
      "outputs": [],
      "source": [
        "rimg = np.zeros((128,128,1))\n",
        "rimg[12:40,6:34] = x_test[15]\n",
        "rimg[40:68,30:58] = x_test[14]\n",
        "rimg[15:43,45:73] = x_test[13]\n",
        "rimg[5:33,75:103] = x_test[12]\n",
        "rimg[45:73,90:118] = x_test[11]\n",
        "rimg[89:117,70:98] = x_test[9]\n",
        "rimg[80:108,25:53] = x_test[6]"
      ]
    },
    {
      "cell_type": "code",
      "execution_count": 21,
      "metadata": {
        "colab": {
          "base_uri": "https://localhost:8080/",
          "height": 268
        },
        "id": "hoaxUx-3JgfL",
        "outputId": "60fa9643-22d0-40bc-bc56-586efb6cbf5f"
      },
      "outputs": [],
      "source": [
        "imageplot = plt.imshow(np.reshape(rimg,(128,128)))\n",
        "plt.show()"
      ]
    },
    {
      "cell_type": "markdown",
      "metadata": {
        "id": "04jhU6e4PNWE"
      },
      "source": [
        "We use the cmap function of pyplot to map classes to colors."
      ]
    },
    {
      "cell_type": "code",
      "execution_count": 23,
      "metadata": {
        "colab": {
          "base_uri": "https://localhost:8080/"
        },
        "id": "Zj3XJY43PYly",
        "outputId": "4fdb516c-f1e0-4c55-a411-c34ef538748b"
      },
      "outputs": [],
      "source": [
        "def get_cmap(n, name='hsv'):\n",
        "    '''Returns a function that maps each index in 0, 1, ..., n-1 to a distinct \n",
        "    RGB color; the keyword argument name must be a standard mpl colormap name.'''\n",
        "    return plt.cm.get_cmap(name, n)\n",
        "\n",
        "cmap = get_cmap(12)\n",
        "\n",
        "def cmap1(n):\n",
        "  return cmap(n)[0:3]\n",
        "\n",
        "print(cmap1(3),cmap1(10))"
      ]
    },
    {
      "cell_type": "markdown",
      "metadata": {
        "id": "rfNDhnzbPk40"
      },
      "source": [
        "Now we try to use the fully convolutional network to \"locate\" digits in out sample image."
      ]
    },
    {
      "cell_type": "code",
      "execution_count": 25,
      "metadata": {
        "colab": {
          "base_uri": "https://localhost:8080/"
        },
        "id": "jt3l9HvOPd0a",
        "outputId": "85e7dc56-ad18-40cb-b595-21eb383bdc42"
      },
      "outputs": [],
      "source": [
        "fmap = model_c.predict(np.expand_dims(rimg,axis=0))[0]\n",
        "print(fmap.shape)"
      ]
    },
    {
      "cell_type": "code",
      "execution_count": 26,
      "metadata": {
        "colab": {
          "base_uri": "https://localhost:8080/"
        },
        "id": "7loH5p5ZQvTm",
        "outputId": "b1ddb727-df72-41fc-a975-39488b162195"
      },
      "outputs": [],
      "source": [
        "fmap = np.argmax(fmap,axis=-1)\n",
        "print(fmap.shape)\n",
        "print(fmap)"
      ]
    },
    {
      "cell_type": "markdown",
      "metadata": {
        "id": "n_F_2xH7P1Ca"
      },
      "source": [
        "The result is better appreciated as a heatmap."
      ]
    },
    {
      "cell_type": "code",
      "execution_count": null,
      "metadata": {
        "colab": {
          "base_uri": "https://localhost:8080/"
        },
        "id": "ppQdo0_YRBHo",
        "outputId": "95654de9-9c6e-4933-93f3-09725bb24b07"
      },
      "outputs": [],
      "source": [
        "vcmap = np.vectorize(cmap1)\n",
        "fcmap = np.array(vcmap(fmap))\n",
        "fcmap = np.transpose(fcmap,(1,2,0))\n",
        "print(fcmap.shape)"
      ]
    },
    {
      "cell_type": "code",
      "execution_count": null,
      "metadata": {
        "colab": {
          "base_uri": "https://localhost:8080/",
          "height": 268
        },
        "id": "bJJR1aDDZqNX",
        "outputId": "2ba8df0e-6fae-4259-c754-c57aec5f2128"
      },
      "outputs": [],
      "source": [
        "fig,ax = plt.subplots()\n",
        "ax.imshow(fcmap)\n",
        "for i in range(11):\n",
        "  ax.text(18,2*i,str(i))\n",
        "  ax.scatter(20,2*i,s=40,color=cmap1(i))\n",
        "plt.show()"
      ]
    },
    {
      "cell_type": "markdown",
      "metadata": {
        "id": "GlrZrMdLQG2F"
      },
      "source": [
        "Location is good but classification is not always accurate.\n",
        "\n",
        "#Improvements\n",
        "\n",
        "Let us try to improve things by training a classifier more robust to dispacements (mnist data are precisely centered, while the stride of the convolutional network is 8)."
      ]
    },
    {
      "cell_type": "code",
      "execution_count": 27,
      "metadata": {
        "id": "RDvR0XwASFLD"
      },
      "outputs": [],
      "source": [
        "from tensorflow.keras.preprocessing.image import ImageDataGenerator\n",
        "\n",
        "datagen = ImageDataGenerator(\n",
        "        #rotation_range=0.1,\n",
        "        width_shift_range=0.2,\n",
        "        height_shift_range=0.2,\n",
        "        #shear_range=0.15,\n",
        "        #zoom_range=0.15,\n",
        "        horizontal_flip=False,\n",
        "        fill_mode='nearest')"
      ]
    },
    {
      "cell_type": "markdown",
      "metadata": {
        "id": "COcc_SJaTkxO"
      },
      "source": [
        "Let's look at sample samples of augmement data:"
      ]
    },
    {
      "cell_type": "code",
      "execution_count": 28,
      "metadata": {
        "colab": {
          "base_uri": "https://localhost:8080/",
          "height": 1000
        },
        "id": "gbpOLiraWI_j",
        "outputId": "4878f19b-2af8-41bd-b10a-8956154a91b3"
      },
      "outputs": [],
      "source": [
        "i = 0\n",
        "for batch in datagen.flow(x_train[7:8], batch_size=1):\n",
        "    i += 1\n",
        "    plt.imshow(batch[0,:,:,0])\n",
        "    plt.show()\n",
        "    if i > 5:\n",
        "        break  # otherwise the generator would loop indefinitely"
      ]
    },
    {
      "cell_type": "code",
      "execution_count": 29,
      "metadata": {
        "id": "brn4F0LUXs3a"
      },
      "outputs": [],
      "source": [
        "train_generator = datagen.flow(x_train_bg,y_train_bg,batch_size=100)"
      ]
    },
    {
      "cell_type": "code",
      "execution_count": 30,
      "metadata": {
        "colab": {
          "base_uri": "https://localhost:8080/"
        },
        "id": "xGnvhhU5YoG5",
        "outputId": "fdd9784c-2d5a-4141-c2bc-31caedd49d42"
      },
      "outputs": [],
      "source": [
        "model.fit(train_generator,\n",
        "          steps_per_epoch = 600,\n",
        "          epochs=5,\n",
        "          validation_data=(x_test_bg, y_test_bg))"
      ]
    },
    {
      "cell_type": "code",
      "execution_count": null,
      "metadata": {
        "id": "SJectqSSaUv5"
      },
      "outputs": [],
      "source": [
        "model.save_weights(\"mymodel_bis.hdf5\")"
      ]
    },
    {
      "cell_type": "code",
      "execution_count": null,
      "metadata": {
        "id": "_wXvWSBPadXU"
      },
      "outputs": [],
      "source": [
        "model_c.load_weights(\"mymodel_bis.hdf5\")"
      ]
    },
    {
      "cell_type": "code",
      "execution_count": null,
      "metadata": {
        "colab": {
          "base_uri": "https://localhost:8080/"
        },
        "id": "gwAoDgPbanFL",
        "outputId": "ee664e2b-f566-4e0b-9051-a1d0fbc6e19c"
      },
      "outputs": [],
      "source": [
        "fmap = model_c.predict(np.expand_dims(rimg,axis=0))[0]\n",
        "fmap = np.argmax(fmap,axis=-1)\n",
        "print(fmap)\n",
        "fcmap = np.array(vcmap(fmap))\n",
        "fcmap = np.transpose(fcmap,(1,2,0))\n",
        "print(fcmap.shape)"
      ]
    },
    {
      "cell_type": "code",
      "execution_count": null,
      "metadata": {
        "colab": {
          "base_uri": "https://localhost:8080/",
          "height": 268
        },
        "id": "hx4ub7zZa5YP",
        "outputId": "f59a3766-b5bc-41e8-a4d6-fa4b134afa36"
      },
      "outputs": [],
      "source": [
        "fig,ax = plt.subplots()\n",
        "ax.imshow(fcmap)\n",
        "for i in range(11):\n",
        "  ax.text(18,2*i,str(i))\n",
        "  ax.scatter(20,2*i,s=40,color=cmap1(i))\n",
        "plt.show()"
      ]
    },
    {
      "cell_type": "markdown",
      "metadata": {
        "id": "NXUFA3GLT1MI"
      },
      "source": [
        "As a second attemp we consider a sligtly more sophisticated classifier."
      ]
    },
    {
      "cell_type": "code",
      "execution_count": 31,
      "metadata": {
        "id": "DijHOV-4cGvs"
      },
      "outputs": [],
      "source": [
        "iimg = Input(shape=(28,28,1))\n",
        "x = Conv2D(16,(3,3),strides=2,padding='same', activation='swish')(iimg)\n",
        "x = Conv2D(16,(3,3),strides=1,padding='same',activation='swish')(x)\n",
        "x = Conv2D(32,(3,3),strides=2,padding='same',activation='swish')(x)\n",
        "x = Conv2D(32,(3,3),strides=1,padding='same',activation='swish')(x)\n",
        "x = Conv2D(64,(3,3),strides=2,padding='same',activation='swish')(x)\n",
        "x = Conv2D(64,(3,3),strides=1,padding='same',activation='swish')(x)\n",
        "x = GlobalMaxPool2D()(x)\n",
        "x = Dense(64,activation = 'swish')(x)\n",
        "cout = Dense(11, activation = 'softmax')(x) #we have now 11 categories\n",
        "\n",
        "model2 = Model(inputs=[iimg],outputs=[cout])"
      ]
    },
    {
      "cell_type": "code",
      "execution_count": null,
      "metadata": {
        "id": "4Uuv3puZcvfc"
      },
      "outputs": [],
      "source": [
        "model2.compile(optimizer='adam',loss='sparse_categorical_crossentropy',metrics=['accuracy'])"
      ]
    },
    {
      "cell_type": "code",
      "execution_count": null,
      "metadata": {
        "colab": {
          "base_uri": "https://localhost:8080/"
        },
        "id": "eee-uXT9c3Op",
        "outputId": "78d6ea17-5e6a-43f0-e20c-754221ebcd39"
      },
      "outputs": [],
      "source": [
        "model2.fit(train_generator,\n",
        "          steps_per_epoch = 600,\n",
        "          epochs=5,\n",
        "          validation_data=(x_test_bg, y_test_bg))"
      ]
    },
    {
      "cell_type": "code",
      "execution_count": null,
      "metadata": {
        "id": "p6p7XCn-elAV"
      },
      "outputs": [],
      "source": [
        "model2.save_weights(\"mymodel2.hdf5\")"
      ]
    },
    {
      "cell_type": "markdown",
      "metadata": {
        "id": "iirhhadoUJF6"
      },
      "source": [
        "Now we convolutionalize the previous calssifier. In this case, we also leave a pooling layer after the convolution. Since we do not want to further decrease the spatial dimension of the feature map, we apply it with stride 1 (the default stride for pooling layers is equal to the dimension of the kernel)."
      ]
    },
    {
      "cell_type": "code",
      "execution_count": null,
      "metadata": {
        "id": "4bYCpOPTeIB-"
      },
      "outputs": [],
      "source": [
        "iimg = Input(shape=(None,None,1))\n",
        "x = Conv2D(16,(3,3),strides=2,padding='same', activation='swish')(iimg)\n",
        "x = Conv2D(16,(3,3),strides=1,padding='same',activation='swish')(x)\n",
        "x = Conv2D(32,(3,3),strides=2,padding='same',activation='swish')(x)\n",
        "x = Conv2D(32,(3,3),strides=1,padding='same',activation='swish')(x)\n",
        "x = Conv2D(64,(3,3),strides=2,padding='same',activation='swish')(x)\n",
        "x = Conv2D(64,(3,3),strides=1,padding='same',activation='swish')(x)\n",
        "x = MaxPool2D((3,3),padding='same',strides=1)(x)\n",
        "x = Dense(64,activation = 'swish')(x)\n",
        "cout = Dense(11, activation = 'softmax')(x) \n",
        "\n",
        "model2_c = Model(inputs=[iimg],outputs=[cout])"
      ]
    },
    {
      "cell_type": "code",
      "execution_count": null,
      "metadata": {
        "id": "TaC6FKBpeia7"
      },
      "outputs": [],
      "source": [
        "model2_c.load_weights(\"mymodel2.hdf5\")"
      ]
    },
    {
      "cell_type": "code",
      "execution_count": null,
      "metadata": {
        "colab": {
          "base_uri": "https://localhost:8080/"
        },
        "id": "B_8Y_3mte21n",
        "outputId": "002cb182-91c4-47f3-b11b-b8c506f519cc"
      },
      "outputs": [],
      "source": [
        "fmap = model2_c.predict(np.expand_dims(rimg,axis=0))[0]\n",
        "fmap = np.argmax(fmap,axis=-1)\n",
        "print(fmap)\n",
        "fcmap = np.array(vcmap(fmap))\n",
        "fcmap = np.transpose(fcmap,(1,2,0))\n",
        "print(fcmap.shape)"
      ]
    },
    {
      "cell_type": "code",
      "execution_count": null,
      "metadata": {
        "colab": {
          "base_uri": "https://localhost:8080/",
          "height": 268
        },
        "id": "HRXeXeLufJWr",
        "outputId": "c164a23a-e27f-47cb-b0c3-7307b69b6393"
      },
      "outputs": [],
      "source": [
        "fig,ax = plt.subplots()\n",
        "ax.imshow(fcmap)\n",
        "for i in range(11):\n",
        "  ax.text(18,2*i,str(i))\n",
        "  ax.scatter(20,2*i,s=40,color=cmap1(i))\n",
        "plt.show()"
      ]
    }
  ],
  "metadata": {
    "accelerator": "GPU",
    "colab": {
      "collapsed_sections": [],
      "name": "Convolutionalization.ipynb",
      "provenance": []
    },
    "kernelspec": {
      "display_name": "Python 3",
      "name": "python3"
    }
  },
  "nbformat": 4,
  "nbformat_minor": 0
}
