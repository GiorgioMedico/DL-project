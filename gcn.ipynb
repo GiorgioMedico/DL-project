{
  "cells": [
    {
      "cell_type": "markdown",
      "metadata": {
        "id": "mxjjTtXdG7Mm"
      },
      "source": [
        "# GCN: an introduction, in Keras\n",
        "\n",
        "In this demo we implement a basic GCN layer, and then apply it to the popular Zachary's karate club problem.\n",
        "\n",
        "In a karate club composed of 34 members a conflict arose between the administrator \"John A\" and instructor \"Mr. Hi\", which led to the split of the club into two different clubs. \n",
        "\n",
        "**Having knowledge of the relations between the members outside the club, the problem consists in guessing the correct repartition of the members among the two groups.**"
      ]
    },
    {
      "cell_type": "code",
      "execution_count": null,
      "metadata": {
        "id": "Q_PifZq8GP9y"
      },
      "outputs": [],
      "source": [
        "import tensorflow as ts\n",
        "from tensorflow.keras import layers\n",
        "from tensorflow.keras.models import Model\n",
        "from tensorflow.keras import backend as K\n",
        "from tensorflow.keras import metrics\n",
        "\n",
        "import numpy as np\n",
        "import networkx as nx\n",
        "import matplotlib.pyplot as plt"
      ]
    },
    {
      "cell_type": "markdown",
      "metadata": {
        "id": "Xgsz5k3Z4vqh"
      },
      "source": []
    },
    {
      "cell_type": "markdown",
      "metadata": {
        "id": "pjYOMJ1OIFXN"
      },
      "source": [
        "The problem is predefined in Python networkx library, and we can import data with a simple line."
      ]
    },
    {
      "cell_type": "code",
      "execution_count": null,
      "metadata": {
        "colab": {
          "base_uri": "https://localhost:8080/"
        },
        "id": "CRu1VOaSH4Ay",
        "outputId": "ba16a947-52c8-4925-8bdf-e03f63b4cccf"
      },
      "outputs": [],
      "source": [
        "G = nx.karate_club_graph()\n",
        "\n",
        "for v in G:\n",
        "    print('%s %s' % (v, G.nodes[v]['club']))"
      ]
    },
    {
      "cell_type": "markdown",
      "metadata": {
        "id": "XF72P9agNlv8"
      },
      "source": [
        "Let us define the ground truth."
      ]
    },
    {
      "cell_type": "code",
      "execution_count": null,
      "metadata": {
        "colab": {
          "base_uri": "https://localhost:8080/"
        },
        "id": "H1NnHZmpNnWQ",
        "outputId": "cce11d7f-dd10-43bc-bcf7-c3bc911142f5"
      },
      "outputs": [],
      "source": [
        "n = len(G)\n",
        "\n",
        "Labels = np.zeros(n)\n",
        "for v in G:\n",
        "   Labels[v] = G.nodes[v]['club'] == 'Officer'\n",
        "print(Labels)"
      ]
    },
    {
      "cell_type": "markdown",
      "metadata": {
        "id": "IU2VOK_lO4Gj"
      },
      "source": [
        "Let us inspect the graph structure."
      ]
    },
    {
      "cell_type": "markdown",
      "metadata": {
        "id": "J-1pK3REsUiG"
      },
      "source": [
        "Here we show the first egienvectors of the graph laplacian."
      ]
    },
    {
      "cell_type": "code",
      "execution_count": null,
      "metadata": {
        "colab": {
          "base_uri": "https://localhost:8080/",
          "height": 247
        },
        "id": "XOLOzwtmO2hp",
        "outputId": "ceff1fac-0216-4950-bb5b-d4e9ed536710"
      },
      "outputs": [],
      "source": [
        "NL = nx.normalized_laplacian_matrix(G).toarray()\n",
        "lam,ev = np.linalg.eig(NL)\n",
        "\n",
        "#print(np.dot(NL,ev[:,20]))\n",
        "#print(lam[20]*ev[:,20])\n",
        "\n",
        "import matplotlib.pyplot as plt\n",
        "pos=nx.spring_layout(G) # positions for all nodes\n",
        "plt.subplot(131)\n",
        "nx.draw(G,pos,node_size=100, node_color=ev[:,0], cmap='bwr')\n",
        "plt.subplot(132)\n",
        "nx.draw(G,pos,node_size=100, node_color=ev[:,1], cmap='bwr')\n",
        "plt.subplot(133)\n",
        "nx.draw(G,pos,node_size=100, node_color=ev[:,2], cmap='bwr')\n",
        "\n"
      ]
    },
    {
      "cell_type": "markdown",
      "metadata": {
        "id": "rrqmC47qso5w"
      },
      "source": [
        "## GCN\n",
        "\n",
        "Let us come to the code for computing the GCN layer.\n",
        "\n",
        "We try to give a pretty intutive introduction to the topic. \n",
        "\n",
        "Suppose we have, for each node n, a vector of features X. We are interested to use these fetures to compute new features, \n",
        "e.g. by multiplying them with some learned parameters $\\Theta$. \n",
        "\n",
        "The idea is that, in addition to the features of the node n, we would also take into account the structure of the graph, combining X with the features of its neigbours.\n",
        "\n",
        "For instance, if we multiply X by (I + A) we sum together the features of each node and those of its adjacent nodes. Let us call $\\hat{A} = I +A$.\n",
        "\n",
        "A problem with $\\hat{A}$, is that it is not normalized and therefore the multiplication with it may completely change the scale of the feature vectors. To address this issue, we can multiply $\\hat{A}$ by $D^{-1}$, \n",
        "where $D$ is the diagonal node degree matrix:\n",
        "in the resulting matrix, all rows will sum up to 1.\n",
        "\n",
        "In practice, dynamics gets more interesting if you use a symmetric normalization, i.e. $D^{-\\frac{1}{2}}AD^{−\\frac{1}{2}}$ (that no longer amounts to mere averaging of neighboring nodes). \n",
        "\n",
        "With the combination of the previous two tricks, we arrive at the GCN rule introduced in Kipf & Welling (ICLR 2017):\n",
        "\n",
        "<center>$f(A,X)=\\sigma(D^{-\\frac{1}{2}}\\hat{A}D^{−\\frac{1}{2}}X\\Theta)$</center>\n",
        "\n",
        "* $\\hat{A}$ has dimension $n\\times n$ (likewise D)\n",
        "* X has dimension $n \\times p$\n",
        "* $\\Theta$ has dimension $p \\times q$\n",
        "* the output has dimension $n \\times q$\n"
      ]
    },
    {
      "cell_type": "code",
      "execution_count": null,
      "metadata": {
        "id": "tFq8sUdXsnMf"
      },
      "outputs": [],
      "source": [
        "A = nx.adjacency_matrix(G)\n",
        "Id = np.ones(n)\n",
        "Id = np.diag(Id)\n",
        "Ahat = A + Id\n",
        "rowsum = np.array(Ahat.sum(1))\n",
        "r_inv = np.power(rowsum, -.5).flatten()\n",
        "r_inv[np.isinf(r_inv)] = 0.\n",
        "r_mat_inv = np.diag(r_inv)\n",
        "Anorm = np.dot(r_mat_inv,np.dot(Ahat,r_mat_inv))"
      ]
    },
    {
      "cell_type": "markdown",
      "metadata": {
        "id": "TszfDWsCsh4-"
      },
      "source": []
    },
    {
      "cell_type": "markdown",
      "metadata": {
        "id": "enpm7K8Ws_y4"
      },
      "source": [
        "We now define our costum GCN layer. We use the utility function add_weight in order to introduce the matrix $\\Theta$ of learnable parameters. \n",
        "\n",
        "The layer expects to receive as input an already normalized matrix $A$ (in addition to $X$), so we merely compute the dot product $AX\\Theta$."
      ]
    },
    {
      "cell_type": "code",
      "execution_count": null,
      "metadata": {
        "id": "kMYugYsRsjF8"
      },
      "outputs": [],
      "source": [
        "class GCNlayer(layers.Layer):\n",
        "\n",
        "    def __init__(self, output_dim, **kwargs):\n",
        "        self.output_dim = output_dim\n",
        "        super(GCNlayer, self).__init__(**kwargs)\n",
        "\n",
        "    def build(self, input_shape):\n",
        "        # Create a trainable weight variable for this layer.\n",
        "        #print(input_shape)\n",
        "        self._Theta = self.add_weight(name='Theta', \n",
        "                                    shape=(input_shape[1][2], self.output_dim),\n",
        "                                    initializer='glorot_uniform',\n",
        "                                    trainable=True)\n",
        "        super(GCNlayer, self).build(input_shape)  # Be sure to call this at the end\n",
        "\n",
        "    def call(self,x):\n",
        "        A, X = x\n",
        "        return K.batch_dot(A, K.dot(X, self._Theta),axes=[2,1])\n",
        "\n",
        "    def compute_output_shape(self, input_shape):\n",
        "        return (None,input_shape[0][1], self.output_dim)"
      ]
    },
    {
      "cell_type": "markdown",
      "metadata": {
        "id": "sCZUYB4qt4_w"
      },
      "source": [
        "We define a simple model composed of three GCN layers. The final layer has output dimension 1, and we pass it to the logistic function to produce the output probability to belong to a given club."
      ]
    },
    {
      "cell_type": "code",
      "execution_count": null,
      "metadata": {
        "id": "ozIYsMiUt5gy"
      },
      "outputs": [],
      "source": [
        "noFeat = 5\n",
        "\n",
        "Adj = layers.Input(shape=Anorm.shape)\n",
        "Feat = layers.Input(shape=(n,noFeat,))\n",
        "Z = GCNlayer(10)([Adj,Feat])\n",
        "#Z = Activation('relu')(Z)\n",
        "Z = GCNlayer(10)([Adj,Z])\n",
        "#Z = Activation('relu')(Z)\n",
        "Z = GCNlayer(1)([Adj,Z])\n",
        "Zres = layers.Activation('sigmoid')(Z)\n",
        "\n",
        "gcnmodel = Model(inputs=[Adj,Feat],outputs=[Zres])"
      ]
    },
    {
      "cell_type": "code",
      "execution_count": null,
      "metadata": {
        "colab": {
          "base_uri": "https://localhost:8080/"
        },
        "id": "_A00dX_VlcND",
        "outputId": "69f8cebf-ed65-4cbc-c8a7-1031a6d81188"
      },
      "outputs": [],
      "source": [
        "gcnmodel.summary()"
      ]
    },
    {
      "cell_type": "markdown",
      "metadata": {
        "id": "R3LfKaari1NR"
      },
      "source": [
        "We shall train the model starting with random features, in a **semi-supervised** setting, where we only know the final label for the Mr.Hi (number 0, label 0) and the Officer (number 33, label 1).\n",
        "\n",
        "The loss is just measured on these two nodes, for which we know the True labels. The connectivity of the networks allows to propagate labels to adjacent nodes."
      ]
    },
    {
      "cell_type": "code",
      "execution_count": null,
      "metadata": {
        "id": "xDhHaUA3kWt6"
      },
      "outputs": [],
      "source": [
        "loss = - K.log(1-Zres[:,0]) - K.log(Zres[:,33])\n",
        "#loss = K.square(Zres[:,0]) + K.square(1-Zres[:,33])\n",
        "\n",
        "gcnmodel.add_loss(loss)\n",
        "gcnmodel.compile(optimizer='nadam')"
      ]
    },
    {
      "cell_type": "code",
      "execution_count": null,
      "metadata": {
        "id": "RANeInO1lxKv"
      },
      "outputs": [],
      "source": [
        "X = np.random.normal(size = (n,noFeat))"
      ]
    },
    {
      "cell_type": "code",
      "execution_count": null,
      "metadata": {
        "colab": {
          "base_uri": "https://localhost:8080/"
        },
        "id": "uWKlthVwlMGj",
        "outputId": "65a3a8df-bea9-4b61-8d85-eeedd13642e1"
      },
      "outputs": [],
      "source": [
        "gcnmodel.fit([Anorm[np.newaxis,:],X[np.newaxis,:]],epochs=300)"
      ]
    },
    {
      "cell_type": "code",
      "execution_count": null,
      "metadata": {
        "colab": {
          "base_uri": "https://localhost:8080/"
        },
        "id": "DVe-RtlOmn39",
        "outputId": "15ab464a-d1c6-4158-885e-31b8f4e9d38d"
      },
      "outputs": [],
      "source": [
        "predictions = gcnmodel.predict([Anorm[np.newaxis,:],X[np.newaxis,:]])[0,:,0]\n",
        "#print(predictions)\n",
        "predlabels = predictions > .5\n",
        "#print(predlabels)\n",
        "accuracy = np.sum(predlabels==Labels)/n\n",
        "print(accuracy)"
      ]
    },
    {
      "cell_type": "markdown",
      "metadata": {
        "id": "docqgw9YomOe"
      },
      "source": [
        "Considering that the model received random feature description of the nodes, this is a remarkable result. The accuracy can be further improved by providing initial node features as e.g. derived by some node embedding, as in the experiment described in Kipf & Welling article."
      ]
    }
  ],
  "metadata": {
    "accelerator": "GPU",
    "colab": {
      "collapsed_sections": [],
      "name": "gcn.ipynb",
      "provenance": []
    },
    "kernelspec": {
      "display_name": "Python 3",
      "name": "python3"
    }
  },
  "nbformat": 4,
  "nbformat_minor": 0
}
