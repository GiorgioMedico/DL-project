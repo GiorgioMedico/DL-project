{
  "cells": [
    {
      "cell_type": "markdown",
      "metadata": {
        "id": "kWnpkWLrl0Ux"
      },
      "source": [
        "A simple animation showing linear regression"
      ]
    },
    {
      "cell_type": "code",
      "execution_count": null,
      "metadata": {
        "id": "F1OzYFvghh-S"
      },
      "outputs": [],
      "source": [
        "#linear regression example\n",
        "import numpy as np\n",
        "import matplotlib.pyplot as plt\n",
        "import matplotlib.animation as animation\n",
        "import time"
      ]
    },
    {
      "cell_type": "code",
      "execution_count": null,
      "metadata": {
        "id": "-TRLVyaohgHE"
      },
      "outputs": [],
      "source": [
        "from matplotlib import rc\n",
        "\n",
        "# equivalent to rcParams['animation.html'] = 'html5'\n",
        "rc('animation', html='html5')"
      ]
    },
    {
      "cell_type": "code",
      "execution_count": null,
      "metadata": {
        "id": "f82-5aOthrEr"
      },
      "outputs": [],
      "source": [
        "#a bunch of points on the plain\n",
        "x = np.array([1,2.2,3,4,5,6,7,8,9,10])\n",
        "y = np.array([14,12,13,15,11,9,8,4,2,1])\n",
        "\n",
        "#gradient of the quadratic loss\n",
        "def grad(a,b):\n",
        "    d = y - (a*x + b)      #derivative of the loss\n",
        "    da = - np.sum(d * x)   #derivative of d w.r.t. a\n",
        "    db = - np.sum(d)       #derivative of d w.r.t. b\n",
        "    return(da,db)"
      ]
    },
    {
      "cell_type": "code",
      "execution_count": null,
      "metadata": {
        "colab": {
          "base_uri": "https://localhost:8080/",
          "height": 430
        },
        "id": "IHfAuhav7txB",
        "outputId": "80381b00-6b91-4ab5-df3f-a7044b97b531"
      },
      "outputs": [],
      "source": [
        "lr = 0.001\n",
        "epochs = 2000\n",
        "\n",
        "#step 1\n",
        "a = np.random.rand()\n",
        "b = np.random.rand()\n",
        "params=[a,b]\n",
        "\n",
        "fig = plt.figure()\n",
        "plt.plot(x,y,'ro')\n",
        "line, = plt.plot([], [], lw=2)"
      ]
    },
    {
      "cell_type": "code",
      "execution_count": null,
      "metadata": {
        "id": "1pnPlTj9cB2N"
      },
      "outputs": [],
      "source": [
        "def init():\n",
        "    #current approximation\n",
        "    line.set_data([x[0],x[9]],[a*x[0]+b,a*x[9]+b])\n",
        "    return line,\n",
        "\n",
        "def step(i):\n",
        "    a,b=params\n",
        "    da,db = grad(a,b)\n",
        "    if i%100==0:\n",
        "      print(\"current loss = {}\".format(np.sum((y-a*x-b)**2)))\n",
        "    params[0] = a - lr*da\n",
        "    params[1] = b - lr*db\n",
        "    ##### for animation\n",
        "    line.set_data([x[0],x[9]],[a*x[0]+b,a*x[9]+b])\n",
        "    #time.sleep(.01)\n",
        "    return line,\n",
        "\n",
        "anim = animation.FuncAnimation(fig, step, init_func=init, frames=epochs, interval=1, blit=True, repeat=False)"
      ]
    },
    {
      "cell_type": "markdown",
      "metadata": {
        "id": "IcghKDc5S3dn"
      },
      "source": [
        "The animation will be visualized at the end of the excution."
      ]
    },
    {
      "cell_type": "code",
      "execution_count": null,
      "metadata": {
        "colab": {
          "base_uri": "https://localhost:8080/",
          "height": 865
        },
        "id": "r_RjFHnNibqz",
        "outputId": "8a54f128-db39-4afd-fc2c-6698f841b605"
      },
      "outputs": [],
      "source": [
        "anim"
      ]
    }
  ],
  "metadata": {
    "colab": {
      "provenance": []
    },
    "kernelspec": {
      "display_name": "Python 3",
      "name": "python3"
    },
    "language_info": {
      "name": "python"
    }
  },
  "nbformat": 4,
  "nbformat_minor": 0
}
