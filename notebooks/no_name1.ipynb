{
  "cells": [
    {
      "cell_type": "markdown",
      "metadata": {
        "id": "QX15PRrJq_zX"
      },
      "source": [
        "This notebook is meant to introduce convolutional layers, with special emphasis on the relation between the dimension of the input tensor, the kernel size, the stride, the number of filters and the dimension of the output tensor."
      ]
    },
    {
      "cell_type": "code",
      "execution_count": 2,
      "metadata": {
        "id": "jjDI4eEQZ9Xc"
      },
      "outputs": [],
      "source": [
        "import tensorflow as tf"
      ]
    },
    {
      "cell_type": "code",
      "execution_count": 3,
      "metadata": {
        "id": "atmltv8-UZW9"
      },
      "outputs": [],
      "source": [
        "from tensorflow.keras.layers import concatenate,Reshape, Input, Conv2D, Conv2DTranspose, ZeroPadding2D, Dense, Flatten, GlobalMaxPooling2D, MaxPool2D\n",
        "from tensorflow.keras.models import Model\n",
        "from tensorflow.keras import metrics\n",
        "from tensorflow.keras.datasets import mnist"
      ]
    },
    {
      "cell_type": "markdown",
      "metadata": {
        "id": "MDH8iUaxrvZB"
      },
      "source": [
        "We run the example over the mnist data set. Keras provides a very friendly access to several renowed databases, comprising mnist, cifar10, cifar100, IMDB and many others. See https://keras.io/api/datasets/ for documentation"
      ]
    },
    {
      "cell_type": "code",
      "execution_count": 4,
      "metadata": {
        "colab": {
          "base_uri": "https://localhost:8080/"
        },
        "id": "5j-DYkTaz3Ts",
        "outputId": "beb92312-e83e-40af-cc16-b6670f183b43"
      },
      "outputs": [],
      "source": [
        "import numpy as np\n",
        "(x_train, y_train), (x_test, y_test) = mnist.load_data()"
      ]
    },
    {
      "cell_type": "markdown",
      "metadata": {
        "id": "nOMU1JxB0BRH"
      },
      "source": [
        "Mnist images are grayscale images with pixels in the range [0,255].\n",
        "We pass to floats, and normalize them in the range [0,1]."
      ]
    },
    {
      "cell_type": "code",
      "execution_count": 5,
      "metadata": {
        "id": "G78aNHyG0bWD"
      },
      "outputs": [],
      "source": [
        "x_train = x_train.astype('float32') / 255.\n",
        "x_test = x_test.astype('float32') / 255."
      ]
    },
    {
      "cell_type": "code",
      "execution_count": 6,
      "metadata": {
        "colab": {
          "base_uri": "https://localhost:8080/"
        },
        "id": "bto6G0O2h7kP",
        "outputId": "01ed79ed-6bad-4e63-fea5-b50e875248a6"
      },
      "outputs": [],
      "source": [
        "print(x_train.shape)"
      ]
    },
    {
      "cell_type": "markdown",
      "metadata": {
        "id": "5aYDPNGn0n73"
      },
      "source": [
        "Bidimensional convolutions expect input with three dimensions (plus an additional batchsize dimension): width, height, channels.\n",
        "Since mnist digits have only two dimensions (being in grayscale), we need to extend them with an additional dimension."
      ]
    },
    {
      "cell_type": "code",
      "execution_count": 7,
      "metadata": {
        "colab": {
          "base_uri": "https://localhost:8080/"
        },
        "id": "koAbxpngVCsq",
        "outputId": "3521c84d-4e6c-488a-8a21-3082a45ea6e8"
      },
      "outputs": [],
      "source": [
        "(n,w,h) = x_train.shape\n",
        "x_train = x_train.reshape(n,w,h,1)\n",
        "(n,w,h) = x_test.shape\n",
        "x_test = x_test.reshape(n,w,h,1)\n",
        "print(x_train.shape)\n",
        "print(x_test.shape)"
      ]
    },
    {
      "cell_type": "markdown",
      "metadata": {
        "id": "mOp2WtJJsrpn"
      },
      "source": [
        "Mnist labels are integers in the range [0,9]. Since the network will produce probabilities for each one of these categories, if we want to compare it with the ground trouth probability using categorical crossentropy, that is the traditional choice, we should change each integer in its categorical description, using e.g. the \"to_categorical\" function in utils.\n",
        "\n",
        "Alternatively, we can use the so called \"sparse categorical crossentropy\" loss function https://www.tensorflow.org/api_docs/python/tf/keras/losses/SparseCategoricalCrossentropy that allows us to directly compare predictions with labels."
      ]
    },
    {
      "cell_type": "code",
      "execution_count": 8,
      "metadata": {
        "id": "ZK--l9nzs9F-"
      },
      "outputs": [],
      "source": [
        "#y_train = keras.utils.to_categorical(y_train)\n",
        "#y_test = keras.utils.to_categorical(y_test)"
      ]
    },
    {
      "cell_type": "markdown",
      "metadata": {
        "id": "ZO6JwhwnurFi"
      },
      "source": [
        "Let us come to the convolutional network. We define a simple network composed by three convolutional layers, followed by a couple of Dense layers.\n",
        "\n",
        "You should play with padding stride and kernel dimension, to gain confidence with the shape pf the output tensor."
      ]
    },
    {
      "cell_type": "code",
      "execution_count": 16,
      "metadata": {
        "id": "dUI8ALqagpcd"
      },
      "outputs": [],
      "source": [
        "xin = Input(shape=(28,28,1))\n",
        "#x = Conv2D(10,(1,1),activation='relu')(xin)\n",
        "x = Conv2D(16,(3,3),strides=(2,2),padding='valid',activation='relu')(xin)\n",
        "#x = Conv2D(30,(1,1),activation='relu')(x)\n",
        "x = Conv2D(32,(3,3),strides=(2,2),padding='valid',activation='relu')(x)\n",
        "x = Conv2D(64,(3,3),strides=(2,2),padding='valid',activation='relu')(x)\n",
        "#x = GlobalMaxPooling2D()(x)\n",
        "x = Flatten()(x)\n",
        "x = Dense(64, activation ='relu')(x)\n",
        "res = Dense(10,activation = 'softmax')(x)\n",
        "\n",
        "mynet = Model(inputs=xin,outputs=res)"
      ]
    },
    {
      "cell_type": "code",
      "execution_count": 17,
      "metadata": {
        "colab": {
          "base_uri": "https://localhost:8080/",
          "height": 353
        },
        "id": "6w1-7PXeimqJ",
        "outputId": "6dfdf61a-2fcb-4f7f-8238-4e8687507a6b"
      },
      "outputs": [],
      "source": [
        "mynet.summary()"
      ]
    },
    {
      "cell_type": "markdown",
      "metadata": {
        "id": "wBDN-sBi7uUO"
      },
      "source": [
        "Let's have a look at the summary"
      ]
    },
    {
      "cell_type": "code",
      "execution_count": null,
      "metadata": {
        "id": "sgWQT4jHZUR3"
      },
      "outputs": [],
      "source": [
        "mynet.summary()"
      ]
    },
    {
      "cell_type": "markdown",
      "metadata": {
        "id": "iiFJ6HMQ8icY"
      },
      "source": [
        "In valid mode, no padding is applied.\n",
        "Along each axis, the output dimension O is computed from the input dimension I using the formula O=(I-K)/S +1, where K is the kernel dimension and S is the stride.\n",
        "\n",
        "For all layers, K=3 and S=2. So, for the first conv we pass from dimension 28\n",
        "to dimension (28-3)/2+1 = 13, then to dimension (13-3)/2+1 = 6 and finally to dimension (6-3)/2+1 = 2.\n",
        "\n",
        "Exercise: modify \"valid\" to \"same\" and see what happens.\n",
        "\n",
        "The second important point is about the number of parameters.\n",
        "You must keep in mind that a kernel of dimension K1 x K2 has an actual dimension K1 x K2 x CI, where CI is number of input channels: in other words the kernel is computing at the same time spatial and cross-channel correlations.\n",
        "\n",
        "So, for the first convolution, we have 3 x 3 x 1 + 1 = 10 parameters for each filter (1 for the bias), and since we are computing 16 filters, the number of parameters is 10 x 16 = 160.\n",
        "\n",
        "For the second convolution, each filter has 3 x 3 x 16 + 1 = 145 parameters, ans since we have 32 filters, the total number of parameters is 145 x 32 = 4640.\n",
        "\n"
      ]
    },
    {
      "cell_type": "markdown",
      "metadata": {
        "id": "Lj77T0xDBbkc"
      },
      "source": [
        "Let us come to training.\n",
        "\n",
        "In addition to the optimizer and the loss, we also pass a \"metrics\" argument. Metrics are additional functions that are not directly used for training, but allows us to monitor its advancement. For instance, we use accuracy, in this case (sparse, because we are using labels, and cateogrical because we have multiple categories)."
      ]
    },
    {
      "cell_type": "code",
      "execution_count": 18,
      "metadata": {
        "id": "5woK9FZhd2CA"
      },
      "outputs": [],
      "source": [
        "mynet.compile(optimizer='adam',loss='sparse_categorical_crossentropy', metrics=[metrics.SparseCategoricalAccuracy()])"
      ]
    },
    {
      "cell_type": "code",
      "execution_count": null,
      "metadata": {
        "colab": {
          "base_uri": "https://localhost:8080/"
        },
        "id": "flvXXtQwbvFR",
        "outputId": "a7383988-c9b4-4326-9098-2c445362ab1c"
      },
      "outputs": [],
      "source": [
        "mynet.fit(x_train,y_train, shuffle=True, epochs=10, batch_size=32,validation_data=(x_test,y_test))"
      ]
    }
  ],
  "metadata": {
    "accelerator": "GPU",
    "colab": {
      "provenance": []
    },
    "kernelspec": {
      "display_name": "Python 3",
      "name": "python3"
    }
  },
  "nbformat": 4,
  "nbformat_minor": 0
}
