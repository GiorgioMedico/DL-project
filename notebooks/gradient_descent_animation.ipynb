{
  "cells": [
    {
      "cell_type": "markdown",
      "metadata": {
        "id": "m5YsrTPKw5nv"
      },
      "source": [
        "\n",
        "# Animation of the gradient descent technique\n",
        "The purpose of the notbook is to show the behaviour of the gradient descent technique on non-concave error surfaces.\n",
        "\n",
        "As an example, we take a surface defined as a difference bewteen two multivariate gaussians."
      ]
    },
    {
      "cell_type": "code",
      "execution_count": null,
      "metadata": {
        "id": "6MiGxezcyWkg"
      },
      "outputs": [],
      "source": [
        "import matplotlib\n",
        "import numpy as np\n",
        "import matplotlib.cm as cm\n",
        "from scipy.stats import multivariate_normal\n",
        "import matplotlib.pyplot as plt\n",
        "import matplotlib.animation as animation"
      ]
    },
    {
      "cell_type": "code",
      "execution_count": null,
      "metadata": {
        "id": "cSxlSIQOyg50"
      },
      "outputs": [],
      "source": [
        "from matplotlib import rc\n",
        "\n",
        "# equivalent to rcParams['animation.html'] = 'html5'\n",
        "rc('animation', html='html5')"
      ]
    },
    {
      "cell_type": "code",
      "execution_count": null,
      "metadata": {
        "id": "qddj0HUVysnT"
      },
      "outputs": [],
      "source": [
        "#gradient of a bivariate gaussian N(mu,sigma)\n",
        "def gradient(x,mu,sigma):\n",
        "  mvx = multivariate_normal(mu, sigma).pdf(x)\n",
        "  g = mvx * (np.dot(np.linalg.inv(sigma),(x - mu)))\n",
        "  return g"
      ]
    },
    {
      "cell_type": "code",
      "execution_count": null,
      "metadata": {
        "id": "h4-hvCji2c8O"
      },
      "outputs": [],
      "source": [
        "#the function we consider is the difference of two bivariate gaussian\n",
        "mu1 = np.array([0,0])\n",
        "sigma1 = np.array([[1, .5], [.5, 1]])\n",
        "mu2 = np.array([1,1])\n",
        "sigma2 = np.array([[1.5, 0], [0, .5]])\n",
        "z1 = multivariate_normal(mu1, sigma1)\n",
        "z2 = multivariate_normal(mu2, sigma2)\n",
        "\n",
        "#f1 is its derivative\n",
        "def f(pos): return 10*(z2.pdf(pos)-z1.pdf(pos))\n",
        "def f1(pos): return gradient(pos,mu2,sigma2)-gradient(pos,mu1,sigma1)"
      ]
    },
    {
      "cell_type": "code",
      "execution_count": null,
      "metadata": {
        "colab": {
          "base_uri": "https://localhost:8080/",
          "height": 470
        },
        "collapsed": true,
        "id": "v6dFkgnS2qXh",
        "outputId": "18172c9f-78ce-432f-addd-404ec14996a6"
      },
      "outputs": [],
      "source": [
        "matplotlib.rcParams['xtick.direction'] = 'out'\n",
        "matplotlib.rcParams['ytick.direction'] = 'out'\n",
        "\n",
        "x, y = np.mgrid[-3:3:.025, -2:3:.025]\n",
        "grid = np.empty(x.shape + (2,))\n",
        "grid[:, :, 0] = x; grid[:, :, 1] = y\n",
        "\n",
        "step = 1 #length of the step is the direction of the gradient (lr)\n",
        "#change to step = 1 and start from [.8], [1.31] to observe an interesting behaviour\n",
        "\n",
        "fig = plt.figure()\n",
        "CS = plt.contour(x, y, f(grid))\n",
        "plt.clabel(CS, inline=1, fontsize=10)\n",
        "line, = plt.plot([], [], lw=2)\n",
        "plt.title('Gradient Descent')"
      ]
    },
    {
      "cell_type": "markdown",
      "metadata": {
        "id": "ZHPAjVyF26GX"
      },
      "source": [
        "Start point"
      ]
    },
    {
      "cell_type": "code",
      "execution_count": null,
      "metadata": {
        "id": "7KZeetpU23_x"
      },
      "outputs": [],
      "source": [
        "xdata, ydata = [.8], [1.31]\n",
        "#xdata, ydata = [.8], [1.41]\n",
        "#xdata, ydata = [-1.2], [1.0]\n",
        "#xdata, ydata = [-2.0], [1.0]"
      ]
    },
    {
      "cell_type": "code",
      "execution_count": null,
      "metadata": {
        "colab": {
          "base_uri": "https://localhost:8080/",
          "height": 502
        },
        "id": "vaFnoZL_wzBj",
        "outputId": "8100f40e-8480-4d61-dea0-0c31f9bf0e43"
      },
      "outputs": [],
      "source": [
        "def init():\n",
        "    line.set_data([], [])\n",
        "    return line,\n",
        "\n",
        "def animate(i):\n",
        "  pos = np.array([xdata[-1],ydata[-1]])\n",
        "  delta = step*f1(pos)\n",
        "  npos = pos + delta\n",
        "  xdata.append(npos[0])\n",
        "  ydata.append(npos[1])\n",
        "  #print xdata\n",
        "  #print ydata\n",
        "  line.set_data(xdata, ydata)\n",
        "  return line,\n",
        "\n",
        "anim = animation.FuncAnimation(fig, animate, init_func=init, frames=60, interval=1000, blit=True, repeat=False)\n",
        "anim"
      ]
    }
  ],
  "metadata": {
    "colab": {
      "provenance": []
    },
    "kernelspec": {
      "display_name": "Python 3",
      "name": "python3"
    },
    "language_info": {
      "name": "python"
    }
  },
  "nbformat": 4,
  "nbformat_minor": 0
}
