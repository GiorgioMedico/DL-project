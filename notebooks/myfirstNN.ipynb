{
  "cells": [
    {
      "cell_type": "markdown",
      "metadata": {
        "id": "xArtrwzJ8NyN"
      },
      "source": [
        "This is a very simple example of neural network. Its purpose is to approximate an unknown single valued function using a dense deep network.\n",
        "The user is invited to play with it, modifying:\n",
        "1. the hidden function\n",
        "2. the number of layers and neurons per layer\n",
        "3. activation functions, number of epochs, and so on."
      ]
    },
    {
      "cell_type": "code",
      "execution_count": 1,
      "metadata": {
        "id": "2oAc-WyJ6bsl"
      },
      "outputs": [],
      "source": [
        "from tensorflow.keras.layers import Input, Dense, Dropout\n",
        "from tensorflow.keras.models import Model\n",
        "import numpy as np\n",
        "import matplotlib.pyplot as plt"
      ]
    },
    {
      "cell_type": "markdown",
      "metadata": {
        "id": "XKTYzmUP9vB-"
      },
      "source": [
        "\"myhiddenfunction\" is the definition of the function you want to approximate by means of a neural network (NN). The definition is hidden to the NN, who can only access it as a blackbox, to get training samples.\n",
        "This is implemented by means of a generator (a special kind of function), taking in input a number (batchsize) and returning a pair of input output vectors of length batchsize. Each input is a random number in the interval [-pi,pi] and the output is computed by means of myhiddenfunction."
      ]
    },
    {
      "cell_type": "code",
      "execution_count": 2,
      "metadata": {
        "id": "IEaiH3nqAjOv"
      },
      "outputs": [],
      "source": [
        "def myhiddenfunction(x):\n",
        "  #define your favourite function\n",
        "  #output in range 0-1 if last activation is a sigmoid!\n",
        "  res = (np.sin(x)**2 + np.cos(x)/3 + 1)/3\n",
        "  #res = 0.2 + 0.4*x**2 + 0.3*x*np.sin(15*x) + 0.05*np.cos(50*x)\n",
        "  #if x < -1 or x > 1 : res = 0\n",
        "  #else: res = 1\n",
        "  return res"
      ]
    },
    {
      "cell_type": "markdown",
      "metadata": {
        "id": "wtmamz5FArqe"
      },
      "source": [
        "If you have a way to define new samples, you should take advantage of it, exploiting a **generator**.\n",
        "\n",
        "In python, a generator is similar to a normal function but with a yield statement instead of a return statement.\n",
        "\n",
        "The difference is that while a \"return\" statement terminates a function entirely, a \"yield\" statement pauses the function saving its state and resume from it on successive calls."
      ]
    },
    {
      "cell_type": "code",
      "execution_count": 19,
      "metadata": {
        "id": "Xf4J4vaG7i1d"
      },
      "outputs": [],
      "source": [
        "def generator(batchsize):\n",
        "    while True:\n",
        "      #adjust range according to myhiddentfunction\n",
        "      inputs = np.random.uniform(low=-np.pi,high=np.pi,size=batchsize)\n",
        "      #inputs = np.random.uniform(low=0,high=1,size=batchsize)\n",
        "      outputs = np.zeros(batchsize)\n",
        "      for i in range(0,batchsize):\n",
        "          outputs[i] = myhiddenfunction(inputs[i]) # + np.random.normal() *.1\n",
        "      yield (inputs,outputs)"
      ]
    },
    {
      "cell_type": "markdown",
      "metadata": {
        "id": "IOhXjNKJAhbH"
      },
      "source": [
        "If you want to see an example of a generated batch, you need to invoke next on the generator"
      ]
    },
    {
      "cell_type": "code",
      "execution_count": 5,
      "metadata": {
        "colab": {
          "base_uri": "https://localhost:8080/"
        },
        "id": "_R6lAy5BBCoe",
        "outputId": "36ac19c4-4415-4558-b786-3d17dd17af97"
      },
      "outputs": [],
      "source": [
        "print(next(generator(3)))"
      ]
    },
    {
      "cell_type": "markdown",
      "metadata": {
        "id": "CDQSPDikQ0DB"
      },
      "source": [
        "As we shall see, we may directly call the generator during the training process.\n",
        "\n",
        "However, for the moment we use it to create a fixed training set."
      ]
    },
    {
      "cell_type": "code",
      "execution_count": 6,
      "metadata": {
        "id": "llIUTjxDRGSb"
      },
      "outputs": [],
      "source": [
        "x_train, y_train = next(generator(6000))\n",
        "x_val, y_val = next(generator(1000))"
      ]
    },
    {
      "cell_type": "markdown",
      "metadata": {
        "id": "RzW03FAiBicW"
      },
      "source": [
        "Now we define the network. The function we want to approximate is single valued, so the network will have a single input and a single output, and its (dense) structure is completely defined by a\n",
        "list specifying the number of neurons per layer\n"
      ]
    },
    {
      "cell_type": "code",
      "execution_count": 13,
      "metadata": {
        "id": "A6tBLePz9ZF0"
      },
      "outputs": [],
      "source": [
        "input_layer = Input(shape=(1,))\n",
        "x = Dense(50,activation='relu')(input_layer)   #20 #50 #100\n",
        "x = Dense(20, activation='relu')(x)\n",
        "#x = Dense(50, activation='relu')(x)\n",
        "output_layer = Dense(1,activation='sigmoid')(x)\n",
        "\n",
        "mymodel = Model(input_layer,output_layer)"
      ]
    },
    {
      "cell_type": "markdown",
      "metadata": {
        "id": "sruNt7tJD_uW"
      },
      "source": [
        "We can now have a look at the model we just generated:"
      ]
    },
    {
      "cell_type": "code",
      "execution_count": 14,
      "metadata": {
        "colab": {
          "base_uri": "https://localhost:8080/",
          "height": 257
        },
        "id": "vycSPvkZEJ2Q",
        "outputId": "cc0b88f6-e19f-4689-cd43-0a1899969634"
      },
      "outputs": [],
      "source": [
        "mymodel.summary()"
      ]
    },
    {
      "cell_type": "markdown",
      "metadata": {
        "id": "gXRWtOJsEPj-"
      },
      "source": [
        "Try to be sure you correctly understand the number of learning parameters for each layer.\n",
        "For a dense layer with n input neurons and m output neurons, your have nxm weights + m biases.\n",
        "For instance, for a 20-to-30 layer, we have 20x30+30 = 630 parameters."
      ]
    },
    {
      "cell_type": "markdown",
      "metadata": {
        "id": "qIuE_GgiGBS7"
      },
      "source": [
        "We are finally ready to compile our model and train it.\n",
        "As loss function we use mean square error (mse).\n",
        "The \"optimizer\" is the technique used to tune the learning rate during backpropagation: you may ignore it for the moment."
      ]
    },
    {
      "cell_type": "code",
      "execution_count": 15,
      "metadata": {
        "id": "0wVDNBzS3066"
      },
      "outputs": [],
      "source": [
        "mymodel.compile(optimizer='adam', loss='mse')"
      ]
    },
    {
      "cell_type": "code",
      "execution_count": 16,
      "metadata": {
        "colab": {
          "base_uri": "https://localhost:8080/"
        },
        "id": "Pkvp2GrjRqX0",
        "outputId": "7d51a2ae-fb3b-4058-e9e7-5899ffb2e1d1"
      },
      "outputs": [],
      "source": [
        "batchsize = 128\n",
        "mygen = generator(batchsize)\n",
        "#mymodel.fit(x_train,y_train,epochs=100,batch_size=batchsize,validation_data=(x_val,y_val))\n",
        "mymodel.fit(mygen,epochs=50,steps_per_epoch=100)"
      ]
    },
    {
      "cell_type": "code",
      "execution_count": 17,
      "metadata": {
        "id": "u-dSvluuTcGf"
      },
      "outputs": [],
      "source": [
        "def plot(f, model):\n",
        "  x = np.arange(-np.pi,np.pi,0.05)\n",
        "  #x = np.arange(0,1,0.005)\n",
        "  y = [f(a) for a in x]\n",
        "  z = model.predict(np.array(x))\n",
        "  plt.plot(x,y,'r',x,z,'b')\n",
        "  plt.show()"
      ]
    },
    {
      "cell_type": "code",
      "execution_count": 18,
      "metadata": {
        "colab": {
          "base_uri": "https://localhost:8080/",
          "height": 452
        },
        "id": "XFAYkKNVT4Hn",
        "outputId": "a2f76d40-c23d-4c83-8c40-66da901b7774"
      },
      "outputs": [],
      "source": [
        "plot(myhiddenfunction,mymodel)"
      ]
    },
    {
      "cell_type": "code",
      "execution_count": null,
      "metadata": {
        "colab": {
          "base_uri": "https://localhost:8080/"
        },
        "id": "gfjFQg6QFy8O",
        "outputId": "3fc04514-a980-472c-9b49-c294b6d014f9"
      },
      "outputs": [],
      "source": [
        "batchsize = 64\n",
        "\n",
        "mymodel.fit(generator(batchsize), steps_per_epoch=1000, epochs=10)"
      ]
    },
    {
      "cell_type": "markdown",
      "metadata": {
        "id": "gQJx-p0zHxWl"
      },
      "source": [
        "If everything is working correctly, the loss should decrease during training.  \n",
        "If it doesn't, it means that, for some reason, the network is not learning.\n",
        "\n",
        "We are finally ready to check the result of the approximation. We plot the hidden function in red,\n",
        "and the approximation computed by the network in blu."
      ]
    },
    {
      "cell_type": "code",
      "execution_count": null,
      "metadata": {
        "id": "LquGdgn0INmX"
      },
      "outputs": [],
      "source": [
        "x = np.arange(-np.pi,np.pi,0.05)\n",
        "y = [myhiddenfunction(a) for a in x]\n",
        "z = mymodel.predict(np.array(x))\n",
        "plt.plot(x,y,'r',x,z,'b')\n",
        "plt.show()\n"
      ]
    },
    {
      "cell_type": "markdown",
      "metadata": {
        "id": "2DOwrXfyI45P"
      },
      "source": [
        "Now is your turn. Modify:\n",
        "\n",
        "1. the definition of the hidden function\n",
        "2. the number of layers/neurons per layer; you just have to change inner_layers_dims in block 6.\n",
        "\n",
        "Have fun."
      ]
    }
  ],
  "metadata": {
    "accelerator": "GPU",
    "colab": {
      "provenance": []
    },
    "kernelspec": {
      "display_name": "Python 2",
      "name": "python2"
    }
  },
  "nbformat": 4,
  "nbformat_minor": 0
}
