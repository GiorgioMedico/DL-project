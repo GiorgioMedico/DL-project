{
  "cells": [
    {
      "cell_type": "markdown",
      "metadata": {
        "id": "OuS0LjNTxhxr"
      },
      "source": [
        "# Satellite images segmentation\n",
        "\n",
        "The task consists of creating a neural model able to perform semantic segmentation on satellite images into six (seven with the no information) different classes. The data used in this project is extracted from the [IGN](https://geoservices.ign.fr/telechargement) archives, and can be downloaded [here](https://drive.google.com/file/d/1y73mUPzS5Hhq1RjPXc9bxch-Nv6HlJem/view?usp=sharing).\n",
        "\n",
        "Each tile in the dataset has a 1000x1000 resolution representing a 500m x 500m footprint (the resolution is 50cm per pixel).\n",
        "\n",
        "The file structure of the dataset is as follows:\n",
        "```none\n",
        "├── ign\n",
        "│   ├── annotations\n",
        "│   │   ├── training\n",
        "│   │   │   ├── aaa.png\n",
        "│   │   │   ├── bbb.png\n",
        "│   │   ├── validation\n",
        "│   │   │   ├── xxx.png\n",
        "│   │   │   ├── yyy.png\n",
        "│   ├── images\n",
        "│   │   ├── training\n",
        "│   │   │   ├── aaa.png\n",
        "│   │   │   ├── bbb.png\n",
        "│   │   ├── validation\n",
        "│   │   │   ├── xxx.png\n",
        "│   │   │   ├── yyy.png\n",
        "\n",
        "```\n",
        "\n",
        "\n",
        "HINT: If the data does not fit into the memory, try by patching the image into smaller portions."
      ]
    },
    {
      "cell_type": "markdown",
      "metadata": {
        "id": "h2AB79F-vz_9"
      },
      "source": [
        "## Downloading the data\n",
        "\n",
        "The data can be either downloaded from the link above and uploaded directly on Colab, or by running the following code snippet, that automatically downloads the data and unzip it."
      ]
    },
    {
      "cell_type": "code",
      "execution_count": null,
      "metadata": {
        "id": "rk1KumIawMEi"
      },
      "outputs": [],
      "source": [
        "!gdown 1y73mUPzS5Hhq1RjPXc9bxch-Nv6HlJem\n",
        "!unzip ign_dataset.zip\n",
        "!rm ign_dataset.zip"
      ]
    },
    {
      "cell_type": "markdown",
      "metadata": {
        "id": "Was-sCzqwdFn"
      },
      "source": [
        "## Multi-class segmentation\n",
        "\n",
        "In this project, the input-target pair is composed by a $1000 \\times 1000$ RGB image as visualized above, together with a $1000 \\times 1000$ mask, that classifies each pixel by assigning to it a real number."
      ]
    },
    {
      "cell_type": "code",
      "execution_count": null,
      "metadata": {
        "colab": {
          "base_uri": "https://localhost:8080/"
        },
        "id": "8npfO-vPw_Xx",
        "outputId": "40d34801-f266-4cf9-fbe7-5eacd1e36c48"
      },
      "outputs": [],
      "source": [
        "import numpy as np\n",
        "import matplotlib.pyplot as plt\n",
        "\n",
        "import os\n",
        "import glob\n",
        "\n",
        "X_path = './ign/images/'\n",
        "Y_path = './ign/annotations/'\n",
        "\n",
        "train_name = sorted(os.listdir(os.path.join(X_path, 'training')))\n",
        "test_name = sorted(os.listdir(os.path.join(X_path, 'validation')))\n",
        "\n",
        "# As an example: load a sample to check the data\n",
        "x_sample = plt.imread(os.path.join(X_path, 'training', train_name[10]))\n",
        "y_sample = plt.imread(os.path.join(Y_path, 'training', train_name[10]))\n",
        "\n",
        "print(f\"Shape of x: {x_sample.shape}. Shape of y: {y_sample.shape}.\")\n",
        "print(f\"Unique values of y: {np.unique(y_sample)}.\")"
      ]
    },
    {
      "cell_type": "markdown",
      "metadata": {
        "id": "68I1V7BfyNyD"
      },
      "source": [
        "In the example above, $\\texttt{y_sample}$ contains 3 classes, represented by the three unique real numbers $[0, 0.00392157, 0.02352941]$.\n",
        "\n",
        "Note that this approach is unusual in multiclass segmentation, where usually the mask is reshaped to be an $height \\times width \\times num. class$ binary array, where the pixel in position $(i, j)$ is classified as the class associated to the value 1, among the channels.\n",
        "\n",
        "In this project, we assume that your data is processed as described above, since the metric used for the evaluation is implemented this way.  "
      ]
    },
    {
      "cell_type": "markdown",
      "metadata": {
        "id": "WHroSbdSmueK"
      },
      "source": [
        "## Metrics\n",
        "The comparison metric for this project is the Dice Cofficient for multi-class segmentation (see the Lab about Segmentation for more informations). To apply this function, you are required to reshape both the predicted mask and the true mask to shape $\\texttt{(batch_size, h, w, num_classes)}$, where $\\texttt{num_classes}$ is the number of segmentation classes.\n",
        "\n",
        "**IMPORTANT**: Remember to leave a print of average Dice Coefficient among the test set on the Notebook for a comparison. To do that, just measure the Dice Coffient by using the functions below for each batch, and take the average."
      ]
    },
    {
      "cell_type": "code",
      "execution_count": null,
      "metadata": {
        "id": "w3kkSzK4mEV5"
      },
      "outputs": [],
      "source": [
        "import numpy as np\n",
        "import matplotlib.pyplot as plt\n",
        "\n",
        "def dice_coef(y_true, y_pred):\n",
        "    y_true_f = y_true.flatten()\n",
        "    y_pred_f = y_pred.flatten()\n",
        "    intersection = np.sum(y_true_f * y_pred_f)\n",
        "    smooth = 0.0001\n",
        "    return (2. * intersection + smooth) / (np.sum(y_true_f) + np.sum(y_pred_f) + smooth)\n",
        "\n",
        "def dice_coef_multilabel(y_true, y_pred, numLabels):\n",
        "    dice=0\n",
        "    for index in range(numLabels):\n",
        "        dice += dice_coef(y_true[:,:,:,index], y_pred[:,:,:,index])\n",
        "    return dice/numLabels"
      ]
    },
    {
      "cell_type": "markdown",
      "metadata": {
        "id": "BMOsKHzuzibX"
      },
      "source": [
        "## Project implementation\n",
        "\n",
        "Good luck!"
      ]
    }
  ],
  "metadata": {
    "accelerator": "GPU",
    "colab": {
      "gpuType": "T4",
      "provenance": []
    },
    "kernelspec": {
      "display_name": "Python 3",
      "name": "python3"
    },
    "language_info": {
      "name": "python"
    }
  },
  "nbformat": 4,
  "nbformat_minor": 0
}
