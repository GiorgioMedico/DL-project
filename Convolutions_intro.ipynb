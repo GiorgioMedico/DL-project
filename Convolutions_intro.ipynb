{
  "cells": [
    {
      "cell_type": "markdown",
      "metadata": {
        "id": "lGsT8gwKmsUR"
      },
      "source": [
        "Convolutions are an old mathematical concept. Altough the term itself did not come into wide use until the 1950s or 1960s, the definition essentially goes back to works of **D'Alembert**, **Lacroix**, **Laplace**, **Fourier**, **Poisson**, and others.\n",
        "\n",
        "In the field Computer Science, the relevance of Convolutions for signal and image processing was recognized well before the advent of CNNs. In particular you can find functions computing convolutions in any library for image provessing, such ad **OpenCv**, or any software for image manipulation, such as **Gimp** or others.\n",
        "\n",
        "We are mostly interested in discrete convolutions, and in particular in convolution f*g where the filter (aka kernel) g is finite.\n",
        "\n",
        "**For the purposes of this notebook, we shall use perform convolutions through a convolutional layer.**"
      ]
    },
    {
      "cell_type": "code",
      "execution_count": null,
      "metadata": {
        "id": "zIDDAQ8eWohj"
      },
      "outputs": [],
      "source": [
        "import tensorflow as tf\n",
        "import numpy as np\n",
        "import matplotlib.pyplot as plt"
      ]
    },
    {
      "cell_type": "code",
      "execution_count": null,
      "metadata": {
        "id": "1ny2OWF0dBtN"
      },
      "outputs": [],
      "source": [
        "from tensorflow.keras.layers import Input, Conv2D, ZeroPadding2D, MaxPooling2D, UpSampling2D\n",
        "from tensorflow.keras.models import Model\n",
        "from tensorflow.keras.datasets import fashion_mnist"
      ]
    },
    {
      "cell_type": "code",
      "execution_count": null,
      "metadata": {
        "colab": {
          "base_uri": "https://localhost:8080/"
        },
        "id": "65d9cGuX-K_F",
        "outputId": "c9802525-4f47-42cb-dc40-8c1068bf9278"
      },
      "outputs": [],
      "source": [
        "(x_train, y_train), (x_test, y_test) = fashion_mnist.load_data()\n",
        "x_train = x_train.astype('float32') / 255.\n",
        "x_test = x_test.astype('float32') / 255."
      ]
    },
    {
      "cell_type": "code",
      "execution_count": null,
      "metadata": {
        "id": "g8SwsXvm-Xkn"
      },
      "outputs": [],
      "source": [
        "myconvlayer = Conv2D(filters=1, kernel_size=(3,3),use_bias=False)  # or simply Conv2D(1,(3,3),use_bias=False)"
      ]
    },
    {
      "cell_type": "markdown",
      "metadata": {
        "id": "Kx1GjR-D-rYR"
      },
      "source": []
    },
    {
      "cell_type": "code",
      "execution_count": null,
      "metadata": {
        "colab": {
          "base_uri": "https://localhost:8080/",
          "height": 465
        },
        "id": "-qka3f4r-tF7",
        "outputId": "e3332271-31ce-4cf8-bdb9-fa828c0498aa"
      },
      "outputs": [],
      "source": [
        "im = x_train[0]\n",
        "print(im.shape)\n",
        "plt.imshow(im,cmap='gray')"
      ]
    },
    {
      "cell_type": "code",
      "execution_count": null,
      "metadata": {
        "colab": {
          "base_uri": "https://localhost:8080/",
          "height": 465
        },
        "id": "YHb1C_2s_bS9",
        "outputId": "77d7907f-9cd8-4024-f1df-25e62ec9bcff"
      },
      "outputs": [],
      "source": [
        "out = myconvlayer(im.reshape(1,28,28,1))\n",
        "print(out.shape)\n",
        "plt.imshow(out[0,:,:,0],cmap='gray')"
      ]
    },
    {
      "cell_type": "markdown",
      "metadata": {
        "id": "F3YIWxobFheS"
      },
      "source": [
        "The kernel was initialized with random values, resulting in a \"confused\" version of the input.\n",
        "\n",
        "Additionally, note that the output has dimensions 26x26, not 28x28 like the original input. This happens because, by default, the convolution operates in \"valid\" mode, meaning the kernel is applied only to full regions of the input.\n",
        "\n",
        "If we want to apply the kernel to the entire image, including the borders, we need to pad the input images (typically with zeros). This can be achieved either through explicit padding mechanisms or by specifying padding='same' when creating the layer."
      ]
    },
    {
      "cell_type": "code",
      "execution_count": null,
      "metadata": {
        "colab": {
          "base_uri": "https://localhost:8080/",
          "height": 522
        },
        "id": "pLHkgZ6xACV6",
        "outputId": "1abb45ef-7419-4be2-fc33-93932061805e"
      },
      "outputs": [],
      "source": [
        "weights = myconvlayer.get_weights()\n",
        "print(len(weights))  #weights is a list (typically, weights and biases)\n",
        "print(weights[0].shape)  #let's access the weights\n",
        "plt.imshow(weights[0][:,:,0,0],cmap='gray')\n",
        "print(weights[0][:,:,0,0])"
      ]
    },
    {
      "cell_type": "markdown",
      "metadata": {
        "id": "Gnaa_NrQEseV"
      },
      "source": [
        "The shape of weights is (3,3,1,1).\n",
        "\n",
        "(3,3) are the spatial dimensions.\n",
        "\n",
        "But what about the two other dimensions?"
      ]
    },
    {
      "cell_type": "markdown",
      "metadata": {
        "id": "wJbKmBCDFB9Z"
      },
      "source": [
        "They are the **depth dimensions** of the **input** and of the **output**."
      ]
    },
    {
      "cell_type": "markdown",
      "metadata": {
        "id": "VVF6Do4qH4uY"
      },
      "source": [
        "# Setting custom weights\n",
        "\n",
        "We are now in the position of setting our weights in te kernel, and inspect thier effect on the result."
      ]
    },
    {
      "cell_type": "markdown",
      "metadata": {
        "id": "reuTolxJIU_m"
      },
      "source": [
        "Let's define a simple function visualizing together input-output pairs."
      ]
    },
    {
      "cell_type": "code",
      "execution_count": null,
      "metadata": {
        "id": "huVn0aQsIicj"
      },
      "outputs": [],
      "source": [
        "def plot_pairs(input,output):\n",
        "  fig, ax = plt.subplots(1,2, figsize=(12,8))\n",
        "  ax[0].imshow(input,cmap='gray')\n",
        "  ax[1].imshow(output,cmap='gray')\n",
        "  ax[0].axis('off')\n",
        "  ax[1].axis('off')\n",
        "  fig.tight_layout\n",
        "  fig.show(9)"
      ]
    },
    {
      "cell_type": "code",
      "execution_count": null,
      "metadata": {
        "colab": {
          "base_uri": "https://localhost:8080/",
          "height": 459
        },
        "id": "iV3CfoPOOzRL",
        "outputId": "e486b981-1da7-4c23-8d57-61e46a70f7fe"
      },
      "outputs": [],
      "source": [
        "plot_pairs(im,out[0,:,:,0])"
      ]
    },
    {
      "cell_type": "markdown",
      "metadata": {
        "id": "1kLJvxPsPuKR"
      },
      "source": [
        "# Identity and shift"
      ]
    },
    {
      "cell_type": "markdown",
      "metadata": {
        "id": "Ub5Ty0KAIU9J"
      },
      "source": [
        "Let us start with the identity kernel."
      ]
    },
    {
      "cell_type": "code",
      "execution_count": null,
      "metadata": {
        "colab": {
          "base_uri": "https://localhost:8080/"
        },
        "id": "QiCfdRcTFA5q",
        "outputId": "ac57c9ee-7091-4f3d-dfa0-7f763deaf8d5"
      },
      "outputs": [],
      "source": [
        "k = np.zeros((3,3,1,1))\n",
        "k[1,1,0,0] = 1\n",
        "print(k[...,0,0])"
      ]
    },
    {
      "cell_type": "code",
      "execution_count": null,
      "metadata": {
        "id": "cEWkBAecQXIB"
      },
      "outputs": [],
      "source": [
        "myconvlayer.set_weights([k])"
      ]
    },
    {
      "cell_type": "code",
      "execution_count": null,
      "metadata": {
        "colab": {
          "base_uri": "https://localhost:8080/",
          "height": 476
        },
        "id": "gSBdQ73XErne",
        "outputId": "cdfbd244-bb5e-4772-b710-970d94b933ad"
      },
      "outputs": [],
      "source": [
        "i = 24 #np.random.randint(0,x_train.shape[0])\n",
        "im = x_train[i]\n",
        "out = myconvlayer(im.reshape(1,28,28,1))\n",
        "plot_pairs(im,out[0,:,:,0])\n",
        "print(out.shape)"
      ]
    },
    {
      "cell_type": "code",
      "execution_count": null,
      "metadata": {
        "colab": {
          "base_uri": "https://localhost:8080/"
        },
        "id": "p_ALo3MHEMep",
        "outputId": "43809db6-df4c-4ce7-bec0-cf1de4f555e7"
      },
      "outputs": [],
      "source": [
        "k = np.zeros((3,3,1,1))\n",
        "k[1,0,0,0] = 1\n",
        "print(k[...,0,0])"
      ]
    },
    {
      "cell_type": "code",
      "execution_count": null,
      "metadata": {
        "id": "fFB1QAU3SG-D"
      },
      "outputs": [],
      "source": [
        "myconvlayer.set_weights([k])"
      ]
    },
    {
      "cell_type": "code",
      "execution_count": null,
      "metadata": {
        "colab": {
          "base_uri": "https://localhost:8080/",
          "height": 459
        },
        "id": "0aPZbYr5RzxF",
        "outputId": "eb199066-447b-478c-e824-a3e7b4577193"
      },
      "outputs": [],
      "source": [
        "i = 24 #np.random.randint(0,x_train.shape[0])\n",
        "im = x_train[i]\n",
        "out = myconvlayer(im.reshape(1,28,28,1))\n",
        "plot_pairs(im,out[0,:,:,0])"
      ]
    },
    {
      "cell_type": "markdown",
      "metadata": {
        "id": "On5cf28sST9U"
      },
      "source": [
        "# Derivatives"
      ]
    },
    {
      "cell_type": "code",
      "execution_count": null,
      "metadata": {
        "colab": {
          "base_uri": "https://localhost:8080/"
        },
        "id": "qOezUokUSfVS",
        "outputId": "d71a082d-d105-4c10-acc9-8035e6ad0e36"
      },
      "outputs": [],
      "source": [
        "k = np.zeros((3,3,1,1))\n",
        "k[1,0,0,0] = -1\n",
        "k[1,2,0,0] = 1\n",
        "print(k[...,0,0])"
      ]
    },
    {
      "cell_type": "code",
      "execution_count": null,
      "metadata": {
        "id": "cEeLENwmS0F-"
      },
      "outputs": [],
      "source": [
        "myconvlayer.set_weights([k])"
      ]
    },
    {
      "cell_type": "code",
      "execution_count": null,
      "metadata": {
        "colab": {
          "base_uri": "https://localhost:8080/",
          "height": 459
        },
        "id": "efSaaP7hS8rQ",
        "outputId": "2f8b4aed-9930-43b7-c482-67b9fccc48af"
      },
      "outputs": [],
      "source": [
        "i = 24 #np.random.randint(0,x_train.shape[0])\n",
        "im = x_train[i]\n",
        "out = myconvlayer(im.reshape(1,28,28,1))\n",
        "plot_pairs(im,out[0,:,:,0])"
      ]
    },
    {
      "cell_type": "markdown",
      "metadata": {
        "id": "8Ko4sHa_ToFC"
      },
      "source": [
        "An import property of convolutions is that f * k1 + f * k2 = f * (k1+k2), that is the sum of the results of two convolutions is equal to the convolution with the sum of the kernels (distributivity).\n",
        "\n",
        "The output image of the previous kernel is the difference between the input image shifted to the left and the input image shifted to the right."
      ]
    },
    {
      "cell_type": "markdown",
      "metadata": {
        "id": "dJoFpO6-VSJ4"
      },
      "source": [
        "Let us consider the vertical derivative"
      ]
    },
    {
      "cell_type": "code",
      "execution_count": null,
      "metadata": {
        "colab": {
          "base_uri": "https://localhost:8080/"
        },
        "id": "LsG6ZFfQTd3y",
        "outputId": "44d09123-b0f0-486e-ddb5-3cc9cf0cce62"
      },
      "outputs": [],
      "source": [
        "k = np.zeros((3,3,1,1))\n",
        "k[0,1,0,0] = -1\n",
        "k[2,1,0,0] = 1\n",
        "print(k[...,0,0])"
      ]
    },
    {
      "cell_type": "markdown",
      "metadata": {
        "id": "O-yzTBmYTdMK"
      },
      "source": []
    },
    {
      "cell_type": "code",
      "execution_count": null,
      "metadata": {
        "id": "0R6xdNnQVcZ9"
      },
      "outputs": [],
      "source": [
        "myconvlayer.set_weights([k])"
      ]
    },
    {
      "cell_type": "code",
      "execution_count": null,
      "metadata": {
        "colab": {
          "base_uri": "https://localhost:8080/",
          "height": 459
        },
        "id": "0nNrsqYoi6Wp",
        "outputId": "8b0940b3-3cf7-4c46-ac89-99b98d842ff0"
      },
      "outputs": [],
      "source": [
        "i = 24 #np.random.randint(0,x_train.shape[0])\n",
        "im = x_train[i]\n",
        "out = myconvlayer(im.reshape(1,28,28,1))\n",
        "plot_pairs(im,out[0,:,:,0])"
      ]
    },
    {
      "cell_type": "markdown",
      "metadata": {
        "id": "TUMDXHyLjYPa"
      },
      "source": [
        "# Blurring"
      ]
    },
    {
      "cell_type": "code",
      "execution_count": null,
      "metadata": {
        "colab": {
          "base_uri": "https://localhost:8080/"
        },
        "id": "-LvlbtCGjXgI",
        "outputId": "3a8102ad-5ee2-461d-e0ac-cd9c229a92f1"
      },
      "outputs": [],
      "source": [
        "k = np.ones((3,3,1,1))/9\n",
        "print(k[...,0,0])"
      ]
    },
    {
      "cell_type": "code",
      "execution_count": null,
      "metadata": {
        "id": "pUyv-eQ8jsRz"
      },
      "outputs": [],
      "source": [
        "myconvlayer.set_weights([k])"
      ]
    },
    {
      "cell_type": "code",
      "execution_count": null,
      "metadata": {
        "colab": {
          "base_uri": "https://localhost:8080/",
          "height": 459
        },
        "id": "fiChkJEcjy4s",
        "outputId": "21718dde-8482-4822-a659-98f30c20543a"
      },
      "outputs": [],
      "source": [
        "i = 24 #np.random.randint(0,x_train.shape[0])\n",
        "im = x_train[i]\n",
        "out = myconvlayer(im.reshape(1,28,28,1))\n",
        "plot_pairs(im,out[0,:,:,0])"
      ]
    },
    {
      "cell_type": "markdown",
      "metadata": {
        "id": "aKJBkKpgkAV2"
      },
      "source": [
        "# Edge detection"
      ]
    },
    {
      "cell_type": "code",
      "execution_count": null,
      "metadata": {
        "colab": {
          "base_uri": "https://localhost:8080/"
        },
        "id": "JdOaSIN7kHxd",
        "outputId": "a527ea03-fdb5-4754-e5a8-d7c913c966d1"
      },
      "outputs": [],
      "source": [
        "k = np.zeros((3,3,1,1))\n",
        "k[0,1,0,0] = k[1,0,0,0] = -1\n",
        "k[2,1,0,0] = k[1,2,0,0] = -1\n",
        "k[1,1,0,0] = 4\n",
        "print(k[...,0,0])"
      ]
    },
    {
      "cell_type": "code",
      "execution_count": null,
      "metadata": {
        "id": "_eEHVnkaksvX"
      },
      "outputs": [],
      "source": [
        "myconvlayer.set_weights([k])"
      ]
    },
    {
      "cell_type": "code",
      "execution_count": null,
      "metadata": {
        "colab": {
          "base_uri": "https://localhost:8080/",
          "height": 459
        },
        "id": "5gEaog7ckvpq",
        "outputId": "a1980d14-6499-4afd-a826-2344b49f47fc"
      },
      "outputs": [],
      "source": [
        "i = 24 #np.random.randint(0,x_train.shape[0]) #24\n",
        "im = x_train[i]\n",
        "out = myconvlayer(im.reshape(1,28,28,1))\n",
        "plot_pairs(im,out[0,:,:,0])"
      ]
    },
    {
      "cell_type": "code",
      "execution_count": null,
      "metadata": {
        "colab": {
          "base_uri": "https://localhost:8080/",
          "height": 73
        },
        "id": "k9TsjOWWlIn1",
        "outputId": "f6c2b561-586a-46f0-f00e-845baf1d8489"
      },
      "outputs": [],
      "source": [
        "from google.colab import files\n",
        "uploaded = files.upload()"
      ]
    },
    {
      "cell_type": "code",
      "execution_count": null,
      "metadata": {
        "colab": {
          "base_uri": "https://localhost:8080/",
          "height": 698
        },
        "id": "XN73ExrjXz01",
        "outputId": "e6a5953e-e98d-4bad-8f85-6b59fe04f742"
      },
      "outputs": [],
      "source": [
        "import cv2\n",
        "esher = cv2.imread('esher.png',cv2.IMREAD_GRAYSCALE)/255.\n",
        "#image = cv2.cvtColor(image, cv2.COLOR_BGR2RGB)\n",
        "fig, ax = plt.subplots(1, figsize=(12,8))\n",
        "\n",
        "plt.imshow(esher,cmap='gray')"
      ]
    },
    {
      "cell_type": "code",
      "execution_count": null,
      "metadata": {
        "colab": {
          "base_uri": "https://localhost:8080/",
          "height": 445
        },
        "id": "otlV6Yagp5Tj",
        "outputId": "8e2b77a6-264b-4860-bbc7-784b6c4e6b3f"
      },
      "outputs": [],
      "source": [
        "out = myconvlayer(esher.reshape(1,esher.shape[0],esher.shape[1],1))\n",
        "plot_pairs(esher,out[0,:,:,0])"
      ]
    },
    {
      "cell_type": "markdown",
      "metadata": {
        "id": "uGOmCaENqofT"
      },
      "source": [
        "Embossing"
      ]
    },
    {
      "cell_type": "code",
      "execution_count": null,
      "metadata": {
        "id": "ZvsNKPeLakLs"
      },
      "outputs": [],
      "source": [
        "k = np.array([[-2,-1,0],\n",
        "              [-1,1,1],\n",
        "              [0,1,2]]).reshape(3,3,1,1)"
      ]
    },
    {
      "cell_type": "code",
      "execution_count": null,
      "metadata": {
        "id": "bmUANyZgNw1_"
      },
      "outputs": [],
      "source": [
        "myconvlayer.set_weights([k])"
      ]
    },
    {
      "cell_type": "code",
      "execution_count": null,
      "metadata": {
        "colab": {
          "base_uri": "https://localhost:8080/",
          "height": 445
        },
        "id": "vzu8xAKBN6Tt",
        "outputId": "2fb0b12c-f4e6-49d3-fbeb-5bf6f4c441d6"
      },
      "outputs": [],
      "source": [
        "out = myconvlayer(esher.reshape(1,esher.shape[0],esher.shape[1],1))\n",
        "plot_pairs(esher,out[0,:,:,0])"
      ]
    },
    {
      "cell_type": "markdown",
      "metadata": {
        "id": "KHGYT-tBZZ84"
      },
      "source": [
        "# Stride\n",
        "\n",
        "Stride refers to the step size by which a convolutional filter (or kernel) moves across the input image (or feature map) during the convolution operation.\n",
        "\n",
        "The default stride is 1, resulting in an output image of approximately the same size as the input image (except for padding effects).\n",
        "\n",
        "Increasing the stride leads to downsampling, as it reduces the number of times the kernel is applied, thereby decreasing the output dimensions. The output dimension is inversely proportional to the stride."
      ]
    },
    {
      "cell_type": "code",
      "execution_count": null,
      "metadata": {
        "colab": {
          "base_uri": "https://localhost:8080/",
          "height": 480
        },
        "id": "GgmhET8ubA66",
        "outputId": "7c1ee84d-29fc-40ec-909c-02852c34e354"
      },
      "outputs": [],
      "source": [
        "myconvlayer2 = Conv2D(1,(3,3),use_bias=False, strides=(2,2))\n",
        "out = myconvlayer2(esher.reshape(1,esher.shape[0],esher.shape[1],1))\n",
        "print(esher.shape)\n",
        "print(out.shape)\n",
        "plot_pairs(esher,out[0,:,:,0])"
      ]
    },
    {
      "cell_type": "markdown",
      "metadata": {
        "id": "eRoJvW7bfOOQ"
      },
      "source": [
        "We can also reduce the spatial dimensions with pooling layers. There are two kinds of pooling layers: MaxPooling (returing the max value in the kernel area), and AveragePooling, returing the average."
      ]
    },
    {
      "cell_type": "code",
      "execution_count": null,
      "metadata": {
        "colab": {
          "base_uri": "https://localhost:8080/",
          "height": 481
        },
        "id": "JvOuPWUXfLrh",
        "outputId": "89bd2ee4-2d9c-4919-fafd-f37ccc973d26"
      },
      "outputs": [],
      "source": [
        "out = MaxPooling2D((2,2))(esher.reshape(1,esher.shape[0],esher.shape[1],1))\n",
        "print(esher.shape)\n",
        "print(out.shape)\n",
        "plot_pairs(esher,out[0,:,:,0])"
      ]
    },
    {
      "cell_type": "code",
      "execution_count": null,
      "metadata": {
        "colab": {
          "base_uri": "https://localhost:8080/"
        },
        "id": "hTrGpID7eIlm",
        "outputId": "36e0ff70-c080-4f48-8aaf-fb75be951a71"
      },
      "outputs": [],
      "source": [
        "a = np.random.randint(0,100,(1,10,10,1))\n",
        "print(a[0,:,:,0])"
      ]
    },
    {
      "cell_type": "code",
      "execution_count": null,
      "metadata": {
        "colab": {
          "base_uri": "https://localhost:8080/"
        },
        "id": "Clp-pJ-whjq-",
        "outputId": "222e0524-c5d8-4d12-ac78-57ffdbbc0fd3"
      },
      "outputs": [],
      "source": [
        "out = MaxPooling2D((2,2))(a)\n",
        "print(out[0,:,:,0])"
      ]
    },
    {
      "cell_type": "markdown",
      "metadata": {
        "id": "kyMtNjs8iCX3"
      },
      "source": [
        "# Upsampling\n",
        "\n",
        "Upsampling can done in two ways: using Transposed Convolutions (morally equivalent to Convolutions with sub-unitarian stride), or with explicit Upasampling layers."
      ]
    },
    {
      "cell_type": "code",
      "execution_count": null,
      "metadata": {
        "colab": {
          "base_uri": "https://localhost:8080/"
        },
        "id": "3w9eQpVViCGm",
        "outputId": "012f5997-aa71-4a91-9436-971e73c62adf"
      },
      "outputs": [],
      "source": [
        "outup = UpSampling2D(2)(out) #change interpolation to 'blinear'\n",
        "print(outup.shape)\n",
        "print(outup[0,:,:,0])"
      ]
    },
    {
      "cell_type": "code",
      "execution_count": null,
      "metadata": {
        "colab": {
          "base_uri": "https://localhost:8080/",
          "height": 480
        },
        "id": "jrlEIbJfgWqg",
        "outputId": "afc3a0c1-647a-4af3-e655-43b8ec86c9c9"
      },
      "outputs": [],
      "source": [
        "myconvlayer3 = Conv2D(23,(3,3),use_bias=False)\n",
        "\n",
        "out = myconvlayer3(esher.reshape(1,esher.shape[0],esher.shape[1],1))\n",
        "print(esher.shape)\n",
        "print(out.shape)\n",
        "plot_pairs(esher,out[0,:,:,1])"
      ]
    }
  ],
  "metadata": {
    "colab": {
      "provenance": []
    },
    "kernelspec": {
      "display_name": "Python 3",
      "name": "python3"
    },
    "language_info": {
      "name": "python"
    }
  },
  "nbformat": 4,
  "nbformat_minor": 0
}
